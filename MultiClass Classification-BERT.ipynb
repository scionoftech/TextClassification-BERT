{
 "cells": [
  {
   "cell_type": "markdown",
   "metadata": {},
   "source": [
    "## BBC Text MultiClass Classification - BERT: Bidirectional Encoder Representations from Transformers"
   ]
  },
  {
   "cell_type": "markdown",
   "metadata": {},
   "source": [
    "BERT stands for Bidirectional Encoder Representations from Transformers. It is designed to pre-train deep bidirectional representations from unlabeled text by jointly conditioning on both left and right context. As a result, the pre-trained BERT model can be fine-tuned with just one additional output layer to create state-of-the-art models for a wide range of NLP tasks."
   ]
  },
  {
   "cell_type": "markdown",
   "metadata": {},
   "source": [
    "https://tfhub.dev/google/bert_uncased_L-12_H-768_A-12/1"
   ]
  },
  {
   "cell_type": "markdown",
   "metadata": {},
   "source": [
    "[![BERT](Screenshot-from-2019-06-18-08-46-42.png)](https://tfhub.dev/google/bert_uncased_L-12_H-768_A-12/1)"
   ]
  },
  {
   "cell_type": "markdown",
   "metadata": {},
   "source": [
    "[![BERT](Screenshot-from-2019-06-18-08-45-09.png)](https://tfhub.dev/google/bert_uncased_L-12_H-768_A-12/1)"
   ]
  },
  {
   "cell_type": "markdown",
   "metadata": {},
   "source": [
    "### Get BERT server and client\n",
    "\n",
    "#### server\n",
    "\n",
    "```bash\n",
    "$ pip install bert-serving-server  \n",
    "```\n",
    "#### client, independent of bert-serving-server`\n",
    "\n",
    "```bash\n",
    "$ pip install bert-serving-client \n",
    "```"
   ]
  },
  {
   "cell_type": "markdown",
   "metadata": {},
   "source": [
    "#### download BERT\n",
    "```bash\n",
    "$ wget https://storage.googleapis.com/bert_models/2018_10_18/uncased_L-12_H-768_A-12.zip && unzip uncased_L-12_H-768_A-12.zip\n",
    "```"
   ]
  },
  {
   "cell_type": "markdown",
   "metadata": {},
   "source": [
    "#### Run BERT Server\n",
    "```bash\n",
    "$ bert-serving-start -model_dir uncased_L-12_H-768_A-12/ -num_worker=2 -max_seq_len 50\n",
    "```"
   ]
  },
  {
   "cell_type": "code",
   "execution_count": 1,
   "metadata": {},
   "outputs": [
    {
     "name": "stderr",
     "output_type": "stream",
     "text": [
      "/home/syava/.local/lib/python3.6/site-packages/tensorflow/python/framework/dtypes.py:526: FutureWarning: Passing (type, 1) or '1type' as a synonym of type is deprecated; in a future version of numpy, it will be understood as (type, (1,)) / '(1,)type'.\n",
      "  _np_qint8 = np.dtype([(\"qint8\", np.int8, 1)])\n",
      "/home/syava/.local/lib/python3.6/site-packages/tensorflow/python/framework/dtypes.py:527: FutureWarning: Passing (type, 1) or '1type' as a synonym of type is deprecated; in a future version of numpy, it will be understood as (type, (1,)) / '(1,)type'.\n",
      "  _np_quint8 = np.dtype([(\"quint8\", np.uint8, 1)])\n",
      "/home/syava/.local/lib/python3.6/site-packages/tensorflow/python/framework/dtypes.py:528: FutureWarning: Passing (type, 1) or '1type' as a synonym of type is deprecated; in a future version of numpy, it will be understood as (type, (1,)) / '(1,)type'.\n",
      "  _np_qint16 = np.dtype([(\"qint16\", np.int16, 1)])\n",
      "/home/syava/.local/lib/python3.6/site-packages/tensorflow/python/framework/dtypes.py:529: FutureWarning: Passing (type, 1) or '1type' as a synonym of type is deprecated; in a future version of numpy, it will be understood as (type, (1,)) / '(1,)type'.\n",
      "  _np_quint16 = np.dtype([(\"quint16\", np.uint16, 1)])\n",
      "/home/syava/.local/lib/python3.6/site-packages/tensorflow/python/framework/dtypes.py:530: FutureWarning: Passing (type, 1) or '1type' as a synonym of type is deprecated; in a future version of numpy, it will be understood as (type, (1,)) / '(1,)type'.\n",
      "  _np_qint32 = np.dtype([(\"qint32\", np.int32, 1)])\n",
      "/home/syava/.local/lib/python3.6/site-packages/tensorflow/python/framework/dtypes.py:535: FutureWarning: Passing (type, 1) or '1type' as a synonym of type is deprecated; in a future version of numpy, it will be understood as (type, (1,)) / '(1,)type'.\n",
      "  np_resource = np.dtype([(\"resource\", np.ubyte, 1)])\n"
     ]
    }
   ],
   "source": [
    "import numpy as np\n",
    "import pandas as pd\n",
    "import matplotlib.pyplot as plt\n",
    "%matplotlib inline\n",
    "import seaborn as sns\n",
    "from sklearn import model_selection, preprocessing\n",
    "import re\n",
    "import spacy\n",
    "from nltk.stem import WordNetLemmatizer  \n",
    "from nltk.tokenize import word_tokenize\n",
    "from nltk.corpus import stopwords\n",
    "\n",
    "import tensorflow as tf\n",
    "from tensorflow.keras.models import Sequential,Model\n",
    "from tensorflow.keras.layers import  Reshape,Input,Embedding, Lambda,Dropout,Conv1D,Conv2D,Activation, Dense, Bidirectional,GlobalMaxPooling1D, LSTM, SpatialDropout1D, TimeDistributed,Masking,Layer\n",
    "from tensorflow.keras.callbacks import ModelCheckpoint,EarlyStopping\n",
    "from tensorflow.keras.layers import MaxPool1D\n",
    "import tensorflow.keras.backend as K"
   ]
  },
  {
   "cell_type": "code",
   "execution_count": 2,
   "metadata": {},
   "outputs": [],
   "source": [
    "# load the dataset\n",
    "trainDF = pd.read_csv('bbc-text.csv') # encoding = \"latin\""
   ]
  },
  {
   "cell_type": "code",
   "execution_count": 3,
   "metadata": {},
   "outputs": [
    {
     "data": {
      "text/html": [
       "<div>\n",
       "<style scoped>\n",
       "    .dataframe tbody tr th:only-of-type {\n",
       "        vertical-align: middle;\n",
       "    }\n",
       "\n",
       "    .dataframe tbody tr th {\n",
       "        vertical-align: top;\n",
       "    }\n",
       "\n",
       "    .dataframe thead th {\n",
       "        text-align: right;\n",
       "    }\n",
       "</style>\n",
       "<table border=\"1\" class=\"dataframe\">\n",
       "  <thead>\n",
       "    <tr style=\"text-align: right;\">\n",
       "      <th></th>\n",
       "      <th>category</th>\n",
       "      <th>text</th>\n",
       "    </tr>\n",
       "  </thead>\n",
       "  <tbody>\n",
       "    <tr>\n",
       "      <th>0</th>\n",
       "      <td>tech</td>\n",
       "      <td>tv future in the hands of viewers with home th...</td>\n",
       "    </tr>\n",
       "    <tr>\n",
       "      <th>1</th>\n",
       "      <td>business</td>\n",
       "      <td>worldcom boss  left books alone  former worldc...</td>\n",
       "    </tr>\n",
       "    <tr>\n",
       "      <th>2</th>\n",
       "      <td>sport</td>\n",
       "      <td>tigers wary of farrell  gamble  leicester say ...</td>\n",
       "    </tr>\n",
       "    <tr>\n",
       "      <th>3</th>\n",
       "      <td>sport</td>\n",
       "      <td>yeading face newcastle in fa cup premiership s...</td>\n",
       "    </tr>\n",
       "    <tr>\n",
       "      <th>4</th>\n",
       "      <td>entertainment</td>\n",
       "      <td>ocean s twelve raids box office ocean s twelve...</td>\n",
       "    </tr>\n",
       "    <tr>\n",
       "      <th>5</th>\n",
       "      <td>politics</td>\n",
       "      <td>howard hits back at mongrel jibe michael howar...</td>\n",
       "    </tr>\n",
       "    <tr>\n",
       "      <th>6</th>\n",
       "      <td>politics</td>\n",
       "      <td>blair prepares to name poll date tony blair is...</td>\n",
       "    </tr>\n",
       "    <tr>\n",
       "      <th>7</th>\n",
       "      <td>sport</td>\n",
       "      <td>henman hopes ended in dubai third seed tim hen...</td>\n",
       "    </tr>\n",
       "    <tr>\n",
       "      <th>8</th>\n",
       "      <td>sport</td>\n",
       "      <td>wilkinson fit to face edinburgh england captai...</td>\n",
       "    </tr>\n",
       "    <tr>\n",
       "      <th>9</th>\n",
       "      <td>entertainment</td>\n",
       "      <td>last star wars  not for children  the sixth an...</td>\n",
       "    </tr>\n",
       "  </tbody>\n",
       "</table>\n",
       "</div>"
      ],
      "text/plain": [
       "        category                                               text\n",
       "0           tech  tv future in the hands of viewers with home th...\n",
       "1       business  worldcom boss  left books alone  former worldc...\n",
       "2          sport  tigers wary of farrell  gamble  leicester say ...\n",
       "3          sport  yeading face newcastle in fa cup premiership s...\n",
       "4  entertainment  ocean s twelve raids box office ocean s twelve...\n",
       "5       politics  howard hits back at mongrel jibe michael howar...\n",
       "6       politics  blair prepares to name poll date tony blair is...\n",
       "7          sport  henman hopes ended in dubai third seed tim hen...\n",
       "8          sport  wilkinson fit to face edinburgh england captai...\n",
       "9  entertainment  last star wars  not for children  the sixth an..."
      ]
     },
     "execution_count": 3,
     "metadata": {},
     "output_type": "execute_result"
    }
   ],
   "source": [
    "trainDF.head(10)"
   ]
  },
  {
   "cell_type": "code",
   "execution_count": 4,
   "metadata": {},
   "outputs": [
    {
     "data": {
      "text/plain": [
       "(2225, 2)"
      ]
     },
     "execution_count": 4,
     "metadata": {},
     "output_type": "execute_result"
    }
   ],
   "source": [
    "trainDF.shape"
   ]
  },
  {
   "cell_type": "code",
   "execution_count": 5,
   "metadata": {},
   "outputs": [
    {
     "data": {
      "text/plain": [
       "array(['tech', 'business', 'sport', 'entertainment', 'politics'],\n",
       "      dtype=object)"
      ]
     },
     "execution_count": 5,
     "metadata": {},
     "output_type": "execute_result"
    }
   ],
   "source": [
    "trainDF['category'].unique()"
   ]
  },
  {
   "cell_type": "code",
   "execution_count": 6,
   "metadata": {},
   "outputs": [
    {
     "data": {
      "text/plain": [
       "sport            511\n",
       "business         510\n",
       "politics         417\n",
       "tech             401\n",
       "entertainment    386\n",
       "Name: category, dtype: int64"
      ]
     },
     "execution_count": 6,
     "metadata": {},
     "output_type": "execute_result"
    }
   ],
   "source": [
    "trainDF['category'].value_counts()"
   ]
  },
  {
   "cell_type": "code",
   "execution_count": 7,
   "metadata": {},
   "outputs": [
    {
     "data": {
      "text/plain": [
       "<matplotlib.axes._subplots.AxesSubplot at 0x7fa0caf4d860>"
      ]
     },
     "execution_count": 7,
     "metadata": {},
     "output_type": "execute_result"
    },
    {
     "data": {
      "image/png": "[encoded data removed]",
      "text/plain": [
       "<Figure size 432x288 with 1 Axes>"
      ]
     },
     "metadata": {
      "needs_background": "light"
     },
     "output_type": "display_data"
    }
   ],
   "source": [
    "sns.countplot(trainDF['category'])"
   ]
  },
  {
   "cell_type": "code",
   "execution_count": 8,
   "metadata": {},
   "outputs": [],
   "source": [
    "# clean text from noise\n",
    "def clean_text(text):\n",
    "    \n",
    "    # remove next lines\n",
    "    text = text.strip().replace(\"\\n\", \" \").replace(\"\\r\", \" \")\n",
    "    \n",
    "    # filter to allow only alphabets\n",
    "    text = re.sub(r'[^a-zA-Z\\']', ' ', text)\n",
    "    \n",
    "    # remove Unicode characters\n",
    "    text = re.sub(r'[^\\x00-\\x7F]+', '', text)\n",
    "    \n",
    "    # convert to lowercase to maintain consistency\n",
    "    text = text.lower()\n",
    "    \n",
    "    # tokenize words\n",
    "    # tokens = word_tokenize(text)\n",
    "    \n",
    "    # lemmatization of words\n",
    "    # lemmatizer = WordNetLemmatizer()\n",
    "    \n",
    "    # lemmas = []\n",
    "    # for tok in tokens:\n",
    "    #    lemmas.append(lemmatizer.lemmatize(tok.lower()))\n",
    "    \n",
    "    # get unique words\n",
    "    # tokens = list(set(lemmas))\n",
    "    \n",
    "    # STOPLIST = set(stopwords.words('english'))\n",
    "    # SYMBOLS = \" \".join(string.punctuation).split(\" \")\n",
    "    # reomve stop words and special charaters\n",
    "    # tokens = [tok for tok in tokens if tok not in STOPLIST]\n",
    "    # tokens = [tok for tok in tokens if tok not in SYMBOLS]\n",
    "    \n",
    "    # tokens = [tok for tok in tokens if len(tok) >= 3]\n",
    "    \n",
    "    # remove remaining tokens that are not alphabetic\n",
    "    # tokens = [tok for tok in tokens if tok.isalpha()]\n",
    "    \n",
    "    # stemming of words\n",
    "    # porter = PorterStemmer()\n",
    "    # tokens = [porter.stem(word) for word in tokens]\n",
    "        \n",
    "    return text"
   ]
  },
  {
   "cell_type": "markdown",
   "metadata": {},
   "source": [
    "## Data preparation"
   ]
  },
  {
   "cell_type": "code",
   "execution_count": 9,
   "metadata": {},
   "outputs": [],
   "source": [
    "# Data cleaning\n",
    "trainDF['text'] = trainDF['text'].apply(lambda x:clean_text(x))\n",
    "# Label Encoding\n",
    "le = preprocessing.LabelEncoder()\n",
    "le.fit(trainDF['category'])\n",
    "\n",
    "def encode(le, labels):\n",
    "    enc = le.transform(labels)\n",
    "    return tf.keras.utils.to_categorical(enc)\n",
    "\n",
    "def decode(le, one_hot):\n",
    "    dec = np.argmax(one_hot, axis=1)\n",
    "    return le.inverse_transform(dec)\n",
    "\n",
    "\n",
    "X = trainDF['text']\n",
    "y = encode(le, trainDF['category'])"
   ]
  },
  {
   "cell_type": "code",
   "execution_count": 10,
   "metadata": {},
   "outputs": [],
   "source": [
    "# split the dataset into training and validation datasets\n",
    "x_train, x_val, y_train, y_val = model_selection.train_test_split(np.asarray(X), np.asarray(y), test_size=0.2, random_state=42)"
   ]
  },
  {
   "cell_type": "code",
   "execution_count": 11,
   "metadata": {},
   "outputs": [
    {
     "data": {
      "text/plain": [
       "((1780,), (1780, 5), (445,), (445, 5))"
      ]
     },
     "execution_count": 11,
     "metadata": {},
     "output_type": "execute_result"
    }
   ],
   "source": [
    "x_train.shape,y_train.shape, x_val.shape,y_val.shape"
   ]
  },
  {
   "cell_type": "markdown",
   "metadata": {},
   "source": [
    "## Model Building"
   ]
  },
  {
   "cell_type": "code",
   "execution_count": 12,
   "metadata": {},
   "outputs": [
    {
     "name": "stderr",
     "output_type": "stream",
     "text": [
      "/home/syava/.local/lib/python3.6/site-packages/bert_serving/client/__init__.py:299: UserWarning: some of your sentences have more tokens than \"max_seq_len=50\" set on the server, as consequence you may get less-accurate or truncated embeddings.\n",
      "here is what you can do:\n",
      "- disable the length-check by create a new \"BertClient(check_length=False)\" when you do not want to display this warning\n",
      "- or, start a new server with a larger \"max_seq_len\"\n",
      "  '- or, start a new server with a larger \"max_seq_len\"' % self.length_limit)\n"
     ]
    }
   ],
   "source": [
    "from bert_serving.client import BertClient\n",
    "\n",
    "# make a connection with the BERT server using it's ip address\n",
    "bc = BertClient(ip=\"YOUR_SERVER_IP\")\n",
    "# get the embedding for train and val sets\n",
    "X_tr_bert = bc.encode(x_train.tolist())\n",
    "X_val_bert = bc.encode(x_val.tolist())"
   ]
  },
  {
   "cell_type": "code",
   "execution_count": 13,
   "metadata": {},
   "outputs": [
    {
     "name": "stdout",
     "output_type": "stream",
     "text": [
      "Build model...\n",
      "WARNING:tensorflow:From /home/syava/.local/lib/python3.6/site-packages/tensorflow/python/ops/resource_variable_ops.py:435: colocate_with (from tensorflow.python.framework.ops) is deprecated and will be removed in a future version.\n",
      "Instructions for updating:\n",
      "Colocations handled automatically by placer.\n",
      "WARNING:tensorflow:From /home/syava/.local/lib/python3.6/site-packages/tensorflow/python/keras/layers/core.py:143: calling dropout (from tensorflow.python.ops.nn_ops) with keep_prob is deprecated and will be removed in a future version.\n",
      "Instructions for updating:\n",
      "Please use `rate` instead of `keep_prob`. Rate should be set to `rate = 1 - keep_prob`.\n",
      "_________________________________________________________________\n",
      "Layer (type)                 Output Shape              Param #   \n",
      "=================================================================\n",
      "reshape (Reshape)            (None, 768, 1)            0         \n",
      "_________________________________________________________________\n",
      "dense (Dense)                (None, 768, 64)           128       \n",
      "_________________________________________________________________\n",
      "dropout (Dropout)            (None, 768, 64)           0         \n",
      "_________________________________________________________________\n",
      "conv1d (Conv1D)              (None, 766, 64)           12352     \n",
      "_________________________________________________________________\n",
      "max_pooling1d (MaxPooling1D) (None, 383, 64)           0         \n",
      "_________________________________________________________________\n",
      "lstm (LSTM)                  (None, 100)               66000     \n",
      "_________________________________________________________________\n",
      "dropout_1 (Dropout)          (None, 100)               0         \n",
      "_________________________________________________________________\n",
      "dense_1 (Dense)              (None, 5)                 505       \n",
      "=================================================================\n",
      "Total params: 78,985\n",
      "Trainable params: 78,985\n",
      "Non-trainable params: 0\n",
      "_________________________________________________________________\n"
     ]
    }
   ],
   "source": [
    "print('Build model...')\n",
    "model = Sequential()\n",
    "model.add(Reshape((768,1),input_shape=(768,)))\n",
    "model.add(Dense(64, input_shape=(768,1),activation=\"relu\"))\n",
    "model.add(Dropout(0.2))\n",
    "model.add(Conv1D(64,3,padding='valid',activation='relu',strides=1))\n",
    "model.add(MaxPool1D(pool_size = 2))\n",
    "model.add(LSTM(100))\n",
    "model.add(Dropout(0.2))\n",
    "model.add(Dense(5, activation = 'softmax'))             \n",
    "model.compile(loss = 'categorical_crossentropy', optimizer = 'adam', metrics = ['accuracy'])\n",
    "model.summary()"
   ]
  },
  {
   "cell_type": "code",
   "execution_count": 14,
   "metadata": {},
   "outputs": [
    {
     "name": "stdout",
     "output_type": "stream",
     "text": [
      "Train...\n",
      "Train on 1780 samples, validate on 445 samples\n",
      "WARNING:tensorflow:From /home/syava/.local/lib/python3.6/site-packages/tensorflow/python/ops/math_ops.py:3066: to_int32 (from tensorflow.python.ops.math_ops) is deprecated and will be removed in a future version.\n",
      "Instructions for updating:\n",
      "Use tf.cast instead.\n",
      "Epoch 1/50\n",
      "1728/1780 [============================>.] - ETA: 0s - loss: 1.6002 - acc: 0.2373\n",
      "Epoch 00001: val_acc improved from -inf to 0.27191, saving model to ./model.h5\n",
      "1780/1780 [==============================] - 19s 11ms/sample - loss: 1.6000 - acc: 0.2365 - val_loss: 1.5890 - val_acc: 0.2719\n",
      "Epoch 2/50\n",
      "1728/1780 [============================>.] - ETA: 0s - loss: 1.5604 - acc: 0.3113\n",
      "Epoch 00002: val_acc improved from 0.27191 to 0.36404, saving model to ./model.h5\n",
      "1780/1780 [==============================] - 18s 10ms/sample - loss: 1.5601 - acc: 0.3096 - val_loss: 1.4986 - val_acc: 0.3640\n",
      "Epoch 3/50\n",
      "1728/1780 [============================>.] - ETA: 0s - loss: 1.3774 - acc: 0.4323\n",
      "Epoch 00003: val_acc improved from 0.36404 to 0.47191, saving model to ./model.h5\n",
      "1780/1780 [==============================] - 18s 10ms/sample - loss: 1.3756 - acc: 0.4326 - val_loss: 1.2983 - val_acc: 0.4719\n",
      "Epoch 4/50\n",
      "1728/1780 [============================>.] - ETA: 0s - loss: 1.2819 - acc: 0.4838\n",
      "Epoch 00004: val_acc improved from 0.47191 to 0.49213, saving model to ./model.h5\n",
      "1780/1780 [==============================] - 18s 10ms/sample - loss: 1.2785 - acc: 0.4876 - val_loss: 1.2499 - val_acc: 0.4921\n",
      "Epoch 5/50\n",
      "1728/1780 [============================>.] - ETA: 0s - loss: 1.1457 - acc: 0.5295\n",
      "Epoch 00005: val_acc did not improve from 0.49213\n",
      "1780/1780 [==============================] - 20s 11ms/sample - loss: 1.1514 - acc: 0.5253 - val_loss: 1.2732 - val_acc: 0.4719\n",
      "Epoch 6/50\n",
      "1728/1780 [============================>.] - ETA: 0s - loss: 1.0374 - acc: 0.5909\n",
      "Epoch 00006: val_acc improved from 0.49213 to 0.62472, saving model to ./model.h5\n",
      "1780/1780 [==============================] - 21s 12ms/sample - loss: 1.0371 - acc: 0.5904 - val_loss: 0.9566 - val_acc: 0.6247\n",
      "Epoch 7/50\n",
      "1728/1780 [============================>.] - ETA: 0s - loss: 0.9142 - acc: 0.6568\n",
      "Epoch 00007: val_acc did not improve from 0.62472\n",
      "1780/1780 [==============================] - 19s 11ms/sample - loss: 0.9125 - acc: 0.6573 - val_loss: 0.9107 - val_acc: 0.6247\n",
      "Epoch 8/50\n",
      "1728/1780 [============================>.] - ETA: 0s - loss: 0.8543 - acc: 0.6730\n",
      "Epoch 00008: val_acc improved from 0.62472 to 0.71685, saving model to ./model.h5\n",
      "1780/1780 [==============================] - 19s 10ms/sample - loss: 0.8554 - acc: 0.6708 - val_loss: 0.7761 - val_acc: 0.7169\n",
      "Epoch 9/50\n",
      "1728/1780 [============================>.] - ETA: 0s - loss: 0.7743 - acc: 0.7043\n",
      "Epoch 00009: val_acc did not improve from 0.71685\n",
      "1780/1780 [==============================] - 19s 11ms/sample - loss: 0.7751 - acc: 0.7045 - val_loss: 0.7353 - val_acc: 0.7056\n",
      "Epoch 10/50\n",
      "1728/1780 [============================>.] - ETA: 0s - loss: 0.6920 - acc: 0.7373\n",
      "Epoch 00010: val_acc did not improve from 0.71685\n",
      "1780/1780 [==============================] - 21s 12ms/sample - loss: 0.6959 - acc: 0.7354 - val_loss: 0.7397 - val_acc: 0.7034\n",
      "Epoch 11/50\n",
      "1728/1780 [============================>.] - ETA: 0s - loss: 0.6813 - acc: 0.7488\n",
      "Epoch 00011: val_acc improved from 0.71685 to 0.74157, saving model to ./model.h5\n",
      "1780/1780 [==============================] - 24s 13ms/sample - loss: 0.6793 - acc: 0.7494 - val_loss: 0.6607 - val_acc: 0.7416\n",
      "Epoch 12/50\n",
      "1728/1780 [============================>.] - ETA: 0s - loss: 0.6468 - acc: 0.7639\n",
      "Epoch 00012: val_acc did not improve from 0.74157\n",
      "1780/1780 [==============================] - 23s 13ms/sample - loss: 0.6427 - acc: 0.7646 - val_loss: 0.7015 - val_acc: 0.7303\n",
      "Epoch 13/50\n",
      "1728/1780 [============================>.] - ETA: 0s - loss: 0.6517 - acc: 0.7569\n",
      "Epoch 00013: val_acc improved from 0.74157 to 0.77753, saving model to ./model.h5\n",
      "1780/1780 [==============================] - 18s 10ms/sample - loss: 0.6447 - acc: 0.7601 - val_loss: 0.5963 - val_acc: 0.7775\n",
      "Epoch 14/50\n",
      "1728/1780 [============================>.] - ETA: 0s - loss: 0.6109 - acc: 0.7818\n",
      "Epoch 00014: val_acc improved from 0.77753 to 0.79326, saving model to ./model.h5\n",
      "1780/1780 [==============================] - 19s 11ms/sample - loss: 0.6091 - acc: 0.7837 - val_loss: 0.5768 - val_acc: 0.7933\n",
      "Epoch 15/50\n",
      "1728/1780 [============================>.] - ETA: 0s - loss: 0.5808 - acc: 0.7865\n",
      "Epoch 00015: val_acc did not improve from 0.79326\n",
      "1780/1780 [==============================] - 19s 10ms/sample - loss: 0.5812 - acc: 0.7860 - val_loss: 0.5876 - val_acc: 0.7910\n",
      "Epoch 16/50\n",
      "1728/1780 [============================>.] - ETA: 0s - loss: 0.5689 - acc: 0.7934\n",
      "Epoch 00016: val_acc improved from 0.79326 to 0.79775, saving model to ./model.h5\n",
      "1780/1780 [==============================] - 23s 13ms/sample - loss: 0.5642 - acc: 0.7949 - val_loss: 0.5407 - val_acc: 0.7978\n",
      "Epoch 17/50\n",
      "1728/1780 [============================>.] - ETA: 0s - loss: 0.5478 - acc: 0.7934\n",
      "Epoch 00017: val_acc did not improve from 0.79775\n",
      "1780/1780 [==============================] - 24s 14ms/sample - loss: 0.5487 - acc: 0.7921 - val_loss: 0.5900 - val_acc: 0.7685\n",
      "Epoch 18/50\n",
      "1728/1780 [============================>.] - ETA: 0s - loss: 0.4839 - acc: 0.8258\n",
      "Epoch 00018: val_acc improved from 0.79775 to 0.80674, saving model to ./model.h5\n",
      "1780/1780 [==============================] - 22s 12ms/sample - loss: 0.4823 - acc: 0.8258 - val_loss: 0.5452 - val_acc: 0.8067\n",
      "Epoch 19/50\n",
      "1728/1780 [============================>.] - ETA: 0s - loss: 0.4616 - acc: 0.8328\n",
      "Epoch 00019: val_acc did not improve from 0.80674\n",
      "1780/1780 [==============================] - 20s 11ms/sample - loss: 0.4584 - acc: 0.8348 - val_loss: 0.5761 - val_acc: 0.7955\n",
      "Epoch 20/50\n",
      "1728/1780 [============================>.] - ETA: 0s - loss: 0.4601 - acc: 0.8385\n",
      "Epoch 00020: val_acc improved from 0.80674 to 0.81348, saving model to ./model.h5\n",
      "1780/1780 [==============================] - 22s 12ms/sample - loss: 0.4614 - acc: 0.8376 - val_loss: 0.5024 - val_acc: 0.8135\n",
      "Epoch 21/50\n",
      "1728/1780 [============================>.] - ETA: 0s - loss: 0.4410 - acc: 0.8362\n",
      "Epoch 00021: val_acc improved from 0.81348 to 0.81798, saving model to ./model.h5\n",
      "1780/1780 [==============================] - 19s 11ms/sample - loss: 0.4433 - acc: 0.8360 - val_loss: 0.5158 - val_acc: 0.8180\n",
      "Epoch 22/50\n",
      "1728/1780 [============================>.] - ETA: 0s - loss: 0.4152 - acc: 0.8484\n",
      "Epoch 00022: val_acc did not improve from 0.81798\n",
      "1780/1780 [==============================] - 22s 12ms/sample - loss: 0.4214 - acc: 0.8478 - val_loss: 0.4999 - val_acc: 0.8157\n",
      "Epoch 23/50\n",
      "1728/1780 [============================>.] - ETA: 0s - loss: 0.4188 - acc: 0.8490\n",
      "Epoch 00023: val_acc improved from 0.81798 to 0.84045, saving model to ./model.h5\n",
      "1780/1780 [==============================] - 25s 14ms/sample - loss: 0.4213 - acc: 0.8489 - val_loss: 0.4560 - val_acc: 0.8404\n",
      "Epoch 24/50\n",
      "1728/1780 [============================>.] - ETA: 0s - loss: 0.4089 - acc: 0.8547\n",
      "Epoch 00024: val_acc improved from 0.84045 to 0.84270, saving model to ./model.h5\n",
      "1780/1780 [==============================] - 21s 12ms/sample - loss: 0.4120 - acc: 0.8522 - val_loss: 0.4570 - val_acc: 0.8427\n",
      "Epoch 25/50\n",
      "1728/1780 [============================>.] - ETA: 0s - loss: 0.3855 - acc: 0.8628\n",
      "Epoch 00025: val_acc did not improve from 0.84270\n",
      "1780/1780 [==============================] - 22s 12ms/sample - loss: 0.3872 - acc: 0.8629 - val_loss: 0.4556 - val_acc: 0.8247\n",
      "Epoch 26/50\n",
      "1728/1780 [============================>.] - ETA: 0s - loss: 0.3497 - acc: 0.8773\n",
      "Epoch 00026: val_acc did not improve from 0.84270\n",
      "1780/1780 [==============================] - 20s 11ms/sample - loss: 0.3552 - acc: 0.8758 - val_loss: 0.4302 - val_acc: 0.8404\n",
      "Epoch 27/50\n",
      "1728/1780 [============================>.] - ETA: 0s - loss: 0.3421 - acc: 0.8819\n",
      "Epoch 00027: val_acc did not improve from 0.84270\n",
      "1780/1780 [==============================] - 19s 11ms/sample - loss: 0.3417 - acc: 0.8820 - val_loss: 0.4198 - val_acc: 0.8427\n",
      "Epoch 28/50\n",
      "1728/1780 [============================>.] - ETA: 0s - loss: 0.3410 - acc: 0.8721\n",
      "Epoch 00028: val_acc improved from 0.84270 to 0.84944, saving model to ./model.h5\n",
      "1780/1780 [==============================] - 18s 10ms/sample - loss: 0.3477 - acc: 0.8697 - val_loss: 0.4245 - val_acc: 0.8494\n",
      "Epoch 29/50\n",
      "1728/1780 [============================>.] - ETA: 0s - loss: 0.2784 - acc: 0.9022\n",
      "Epoch 00029: val_acc did not improve from 0.84944\n",
      "1780/1780 [==============================] - 25s 14ms/sample - loss: 0.2829 - acc: 0.9000 - val_loss: 0.4703 - val_acc: 0.8337\n",
      "Epoch 30/50\n",
      "1728/1780 [============================>.] - ETA: 0s - loss: 0.3388 - acc: 0.8721\n",
      "Epoch 00030: val_acc did not improve from 0.84944\n",
      "1780/1780 [==============================] - 23s 13ms/sample - loss: 0.3359 - acc: 0.8730 - val_loss: 0.4306 - val_acc: 0.8404\n",
      "Epoch 31/50\n",
      "1728/1780 [============================>.] - ETA: 0s - loss: 0.3037 - acc: 0.8877\n",
      "Epoch 00031: val_acc improved from 0.84944 to 0.85843, saving model to ./model.h5\n",
      "1780/1780 [==============================] - 19s 11ms/sample - loss: 0.3035 - acc: 0.8882 - val_loss: 0.3933 - val_acc: 0.8584\n",
      "Epoch 32/50\n",
      "1728/1780 [============================>.] - ETA: 0s - loss: 0.2844 - acc: 0.9057\n",
      "Epoch 00032: val_acc improved from 0.85843 to 0.86292, saving model to ./model.h5\n",
      "1780/1780 [==============================] - 20s 11ms/sample - loss: 0.2831 - acc: 0.9062 - val_loss: 0.3979 - val_acc: 0.8629\n",
      "Epoch 33/50\n",
      "1728/1780 [============================>.] - ETA: 0s - loss: 0.2747 - acc: 0.8976\n",
      "Epoch 00033: val_acc did not improve from 0.86292\n",
      "1780/1780 [==============================] - 20s 11ms/sample - loss: 0.2722 - acc: 0.8989 - val_loss: 0.4153 - val_acc: 0.8562\n",
      "Epoch 34/50\n",
      "1728/1780 [============================>.] - ETA: 0s - loss: 0.2629 - acc: 0.9086\n",
      "Epoch 00034: val_acc did not improve from 0.86292\n",
      "1780/1780 [==============================] - 20s 11ms/sample - loss: 0.2653 - acc: 0.9067 - val_loss: 0.3765 - val_acc: 0.8539\n",
      "Epoch 35/50\n",
      "1728/1780 [============================>.] - ETA: 0s - loss: 0.2459 - acc: 0.9115\n",
      "Epoch 00035: val_acc did not improve from 0.86292\n",
      "1780/1780 [==============================] - 19s 11ms/sample - loss: 0.2462 - acc: 0.9118 - val_loss: 0.4753 - val_acc: 0.8315\n",
      "Epoch 36/50\n",
      "1728/1780 [============================>.] - ETA: 0s - loss: 0.2417 - acc: 0.9201\n",
      "Epoch 00036: val_acc improved from 0.86292 to 0.86517, saving model to ./model.h5\n",
      "1780/1780 [==============================] - 19s 11ms/sample - loss: 0.2423 - acc: 0.9191 - val_loss: 0.3580 - val_acc: 0.8652\n",
      "Epoch 37/50\n",
      "1728/1780 [============================>.] - ETA: 0s - loss: 0.2245 - acc: 0.9282\n",
      "Epoch 00037: val_acc did not improve from 0.86517\n",
      "1780/1780 [==============================] - 20s 11ms/sample - loss: 0.2227 - acc: 0.9281 - val_loss: 0.5510 - val_acc: 0.8112\n",
      "Epoch 38/50\n",
      "1728/1780 [============================>.] - ETA: 0s - loss: 0.2460 - acc: 0.9120\n",
      "Epoch 00038: val_acc did not improve from 0.86517\n",
      "1780/1780 [==============================] - 22s 12ms/sample - loss: 0.2464 - acc: 0.9135 - val_loss: 0.4356 - val_acc: 0.8472\n",
      "Epoch 39/50\n",
      "1728/1780 [============================>.] - ETA: 0s - loss: 0.2176 - acc: 0.9259\n",
      "Epoch 00039: val_acc did not improve from 0.86517\n",
      "1780/1780 [==============================] - 18s 10ms/sample - loss: 0.2154 - acc: 0.9270 - val_loss: 0.3905 - val_acc: 0.8629\n",
      "Epoch 40/50\n",
      "1728/1780 [============================>.] - ETA: 0s - loss: 0.2150 - acc: 0.9230\n",
      "Epoch 00040: val_acc did not improve from 0.86517\n",
      "1780/1780 [==============================] - 19s 11ms/sample - loss: 0.2133 - acc: 0.9242 - val_loss: 0.4313 - val_acc: 0.8427\n",
      "Epoch 41/50\n",
      "1728/1780 [============================>.] - ETA: 0s - loss: 0.1790 - acc: 0.9427\n",
      "Epoch 00041: val_acc improved from 0.86517 to 0.87191, saving model to ./model.h5\n",
      "1780/1780 [==============================] - 20s 11ms/sample - loss: 0.1787 - acc: 0.9427 - val_loss: 0.3818 - val_acc: 0.8719\n",
      "Epoch 42/50\n",
      "1728/1780 [============================>.] - ETA: 0s - loss: 0.1832 - acc: 0.9346\n",
      "Epoch 00042: val_acc did not improve from 0.87191\n",
      "1780/1780 [==============================] - 19s 11ms/sample - loss: 0.1822 - acc: 0.9354 - val_loss: 0.4445 - val_acc: 0.8494\n",
      "Epoch 43/50\n",
      "1728/1780 [============================>.] - ETA: 0s - loss: 0.1676 - acc: 0.9375\n",
      "Epoch 00043: val_acc did not improve from 0.87191\n",
      "1780/1780 [==============================] - 21s 12ms/sample - loss: 0.1672 - acc: 0.9376 - val_loss: 0.4170 - val_acc: 0.8562\n",
      "Epoch 44/50\n",
      "1728/1780 [============================>.] - ETA: 0s - loss: 0.1647 - acc: 0.9421\n",
      "Epoch 00044: val_acc improved from 0.87191 to 0.87640, saving model to ./model.h5\n",
      "1780/1780 [==============================] - 23s 13ms/sample - loss: 0.1623 - acc: 0.9427 - val_loss: 0.3732 - val_acc: 0.8764\n",
      "Epoch 45/50\n",
      "1728/1780 [============================>.] - ETA: 0s - loss: 0.1207 - acc: 0.9583\n",
      "Epoch 00045: val_acc did not improve from 0.87640\n",
      "1780/1780 [==============================] - 18s 10ms/sample - loss: 0.1209 - acc: 0.9579 - val_loss: 0.3447 - val_acc: 0.8719\n",
      "Epoch 46/50\n",
      "1728/1780 [============================>.] - ETA: 0s - loss: 0.1421 - acc: 0.9525\n",
      "Epoch 00046: val_acc did not improve from 0.87640\n",
      "1780/1780 [==============================] - 19s 11ms/sample - loss: 0.1410 - acc: 0.9528 - val_loss: 0.4041 - val_acc: 0.8629\n",
      "Epoch 47/50\n",
      "1728/1780 [============================>.] - ETA: 0s - loss: 0.1537 - acc: 0.9485\n",
      "Epoch 00047: val_acc did not improve from 0.87640\n",
      "1780/1780 [==============================] - 22s 12ms/sample - loss: 0.1546 - acc: 0.9472 - val_loss: 0.3777 - val_acc: 0.8674\n",
      "Epoch 48/50\n",
      "1728/1780 [============================>.] - ETA: 0s - loss: 0.1544 - acc: 0.9468\n",
      "Epoch 00048: val_acc did not improve from 0.87640\n",
      "1780/1780 [==============================] - 23s 13ms/sample - loss: 0.1597 - acc: 0.9433 - val_loss: 0.4207 - val_acc: 0.8652\n",
      "Epoch 49/50\n",
      "1728/1780 [============================>.] - ETA: 0s - loss: 0.1943 - acc: 0.9300\n",
      "Epoch 00049: val_acc did not improve from 0.87640\n",
      "1780/1780 [==============================] - 20s 11ms/sample - loss: 0.1960 - acc: 0.9281 - val_loss: 0.4786 - val_acc: 0.8629\n",
      "Epoch 50/50\n",
      "1728/1780 [============================>.] - ETA: 0s - loss: 0.1675 - acc: 0.9398\n",
      "Epoch 00050: val_acc did not improve from 0.87640\n",
      "1780/1780 [==============================] - 20s 11ms/sample - loss: 0.1642 - acc: 0.9410 - val_loss: 0.4665 - val_acc: 0.8382\n"
     ]
    }
   ],
   "source": [
    "print('Train...')\n",
    "# checkpoint\n",
    "checkpoint = ModelCheckpoint(\"./model.h5\", monitor='val_acc', verbose=1, save_best_only=True, mode='max')\n",
    "stoperly = EarlyStopping(monitor=\"val_loss\",mode=\"auto\",verbose=1)\n",
    "callbacks_list = [checkpoint]\n",
    "history = model.fit(X_tr_bert, y_train,batch_size=64,epochs=50,validation_data=(X_val_bert, y_val),callbacks=callbacks_list)"
   ]
  },
  {
   "cell_type": "code",
   "execution_count": 15,
   "metadata": {},
   "outputs": [
    {
     "data": {
      "text/plain": [
       "<matplotlib.legend.Legend at 0x7fa0c864ee48>"
      ]
     },
     "execution_count": 15,
     "metadata": {},
     "output_type": "execute_result"
    },
    {
     "data": {
      "image/png": "[encoded data removed]",
      "text/plain": [
       "<Figure size 576x576 with 1 Axes>"
      ]
     },
     "metadata": {
      "needs_background": "light"
     },
     "output_type": "display_data"
    }
   ],
   "source": [
    "fig, ax = plt.subplots(figsize=(8, 8))\n",
    "ax.plot(history.history[\"loss\"])\n",
    "ax.legend(\"loss\")\n",
    "ax.plot(history.history[\"val_loss\"])\n",
    "ax.legend(\"val_loss\")"
   ]
  },
  {
   "cell_type": "code",
   "execution_count": 16,
   "metadata": {},
   "outputs": [
    {
     "data": {
      "text/plain": [
       "<matplotlib.legend.Legend at 0x7fa0c85cee10>"
      ]
     },
     "execution_count": 16,
     "metadata": {},
     "output_type": "execute_result"
    },
    {
     "data": {
      "image/png": "[encoded data removed]",
      "text/plain": [
       "<Figure size 576x576 with 1 Axes>"
      ]
     },
     "metadata": {
      "needs_background": "light"
     },
     "output_type": "display_data"
    }
   ],
   "source": [
    "fig, ax = plt.subplots(figsize=(8, 8))\n",
    "ax.plot(history.history[\"acc\"])\n",
    "ax.legend(\"acc\")\n",
    "ax.plot(history.history[\"val_acc\"])\n",
    "ax.legend(\"val_acc\")"
   ]
  },
  {
   "cell_type": "code",
   "execution_count": null,
   "metadata": {},
   "outputs": [],
   "source": []
  }
 ],
 "metadata": {
  "kernelspec": {
   "display_name": "Python 3",
   "language": "python",
   "name": "python3"
  },
  "language_info": {
   "codemirror_mode": {
    "name": "ipython",
    "version": 3
   },
   "file_extension": ".py",
   "mimetype": "text/x-python",
   "name": "python",
   "nbconvert_exporter": "python",
   "pygments_lexer": "ipython3",
   "version": "3.6.8"
  }
 },
 "nbformat": 4,
 "nbformat_minor": 2
}
